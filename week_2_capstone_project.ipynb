{
 "metadata": {
  "language_info": {
   "codemirror_mode": {
    "name": "ipython",
    "version": 3
   },
   "file_extension": ".py",
   "mimetype": "text/x-python",
   "name": "python",
   "nbconvert_exporter": "python",
   "pygments_lexer": "ipython3",
   "version": "3.7.6-final"
  },
  "orig_nbformat": 2,
  "kernelspec": {
   "name": "python_defaultSpec_1598371417428",
   "display_name": "Python 3.7.6 64-bit ('conda': conda)"
  }
 },
 "nbformat": 4,
 "nbformat_minor": 2,
 "cells": [
  {
   "cell_type": "markdown",
   "metadata": {},
   "source": [
    "# Capstone Project (Week 2)\n",
    "## Seattle Collision Data\n",
    "### Applied Data Science Capstone on Coursera"
   ]
  },
  {
   "cell_type": "markdown",
   "metadata": {},
   "source": [
    "# Contents\n",
    "* [Introduction/Business Problem](#introduction)\n",
    "* [Data](#data)"
   ]
  },
  {
   "cell_type": "markdown",
   "metadata": {},
   "source": [
    "# Introduction/Business Problem <a name=\"introduction\"></a>\n",
    "\n",
    "The goal of this capstone project is to predict injury collisions (SEVERITYCODE = 2) and property damage collisions (SEVERITYCODE = 1). This report is relevant to those who are interested in preventing or reducing injury collisions and property damage."
   ]
  },
  {
   "cell_type": "markdown",
   "metadata": {},
   "source": [
    "# Data <a name=\"data\"></a>\n",
    "\n",
    "The title of the data set is \"Collisions—All Years\". The data set includes information on all collisions provided by SPD and recorded by Traffic Records. This includes all types of collisions. Collisions will display at the intersection or\n",
    "mid-block of a segment. The timeframe is 2004 to present. The update frequency of the data set is weekly.\n",
    "\n",
    "## Download Links\n",
    "\n",
    "- The dataset can be found by this <a href=\"https://s3.us.cloud-object-storage.appdomain.cloud/cf-courses-data/CognitiveClass/DP0701EN/version-2/Data-Collisions.csv\" target=\"_blank\">link</a>.\n",
    "\n",
    "- Its metadata can be found by this <a href=\"https://s3.us.cloud-object-storage.appdomain.cloud/cf-courses-data/CognitiveClass/DP0701EN/version-2/Metadata.pdf\" target=\"_blank\">link</a>."
   ]
  }
 ]
}